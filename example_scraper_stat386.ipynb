{
 "cells": [
  {
   "cell_type": "code",
   "execution_count": null,
   "metadata": {},
   "outputs": [],
   "source": [
    "import pandas as pd\n",
    "import numpy as np\n",
    "import requests\n",
    "from bs4 import BeautifulSoup\n",
    "import re"
   ]
  },
  {
   "cell_type": "code",
   "execution_count": 2,
   "metadata": {},
   "outputs": [],
   "source": [
    "url = \"https://statistics.byu.edu/faculty-directory\"\n",
    "r = requests.get(url)\n",
    "text = r.text\n",
    "soup= BeautifulSoup(r.text)\n",
    "h3_tags = soup.find_all('h3', {'class':'PromoImageOnTopCircular-title'})\n",
    "titles = soup.find_all('titles', {'class':'PromoImageOnTopCircular-subtitle'})\n",
    "divs = soup.find_all('div', {'class':'PromoImageOnTopCircular-description'})\n",
    "\n",
    "names = []\n",
    "links = []\n",
    "for h3 in h3_tags:\n",
    "    name = h3.get_text().strip()\n",
    "    link = h3.find('a')['href']\n",
    "    names.append(name)\n",
    "    links.append(link)\n",
    "\n",
    "titles = []\n",
    "for div in divs:\n",
    "    title = div.get_text().strip()\n",
    "    titles.append(title)\n",
    "\n",
    "df = pd.DataFrame({'name':names, 'Titles':titles, 'links':links})\n",
    "\n",
    "websites = []\n",
    "emails = []\n",
    "offices = []    \n",
    "phones = []\n",
    "for link in df['links']:\n",
    "    r_sub = requests.get(link)\n",
    "    soup_sub = BeautifulSoup(r_sub.text)\n",
    "    try:\n",
    "        website = soup_sub.find('div', {'class':\"EmployeePage-websiteLink\"}).get_text().strip()\n",
    "        websites.append(website)\n",
    "    except:\n",
    "        websites.append('None')\n",
    "    try:\n",
    "        email = soup_sub.find('div', {'class':\"EmployeePage-email\"}).get_text().strip()\n",
    "        emails.append(email)\n",
    "    except:\n",
    "        emails.append('None')\n",
    "    try:\n",
    "        phone = soup_sub.find('div', {'class':\"EmployeePage-phoneNumber\"}).get_text().strip()\n",
    "        phones.append(phone)\n",
    "    except:\n",
    "        phones.append('None')\n",
    "    try:\n",
    "        office = soup_sub.find('div', {'class':\"EmployeePage-address\"}).get_text().strip()\n",
    "        offices.append(office)\n",
    "    except:\n",
    "        offices.append('None')\n",
    "\n",
    "new_data = pd.DataFrame({'links':links, 'websites':websites, 'emails':emails, 'phones':phones, 'offices':offices})\n",
    "df = pd.concat([df, new_data], axis=1)\n",
    "\n",
    "df =df.drop('links', axis=1)\n",
    "#df"
   ]
  },
  {
   "cell_type": "code",
   "execution_count": null,
   "metadata": {},
   "outputs": [],
   "source": []
  }
 ],
 "metadata": {
  "kernelspec": {
   "display_name": "my_env",
   "language": "python",
   "name": "python3"
  },
  "language_info": {
   "codemirror_mode": {
    "name": "ipython",
    "version": 3
   },
   "file_extension": ".py",
   "mimetype": "text/x-python",
   "name": "python",
   "nbconvert_exporter": "python",
   "pygments_lexer": "ipython3",
   "version": "3.12.8"
  }
 },
 "nbformat": 4,
 "nbformat_minor": 2
}
