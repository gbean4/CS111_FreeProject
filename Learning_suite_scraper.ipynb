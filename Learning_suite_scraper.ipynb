{
 "cells": [
  {
   "cell_type": "code",
   "execution_count": 1,
   "metadata": {},
   "outputs": [],
   "source": [
    "import pandas as pd\n",
    "import numpy as np\n",
    "import requests\n",
    "from bs4 import BeautifulSoup\n",
    "import re\n",
    "import time"
   ]
  },
  {
   "cell_type": "code",
   "execution_count": 2,
   "metadata": {},
   "outputs": [],
   "source": [
    "url= \"https://learningsuite.byu.edu/.w60q/student/top/prioritizer\"\n",
    "r = requests.get(url)\n",
    "text = r.text\n",
    "soup= BeautifulSoup(r.text)\n"
   ]
  },
  {
   "cell_type": "code",
   "execution_count": 3,
   "metadata": {},
   "outputs": [
    {
     "data": {
      "text/plain": [
       "[]"
      ]
     },
     "execution_count": 3,
     "metadata": {},
     "output_type": "execute_result"
    }
   ],
   "source": [
    "#trs = soup.find_all('tr', {'class':'h-10 bg-base'}{'data':'h-10 bg-base'})\n",
    "trs = soup.find_all(\"tr\", class_=\"h-10 bg-base\")\n",
    "trs\n"
   ]
  },
  {
   "cell_type": "code",
   "execution_count": 9,
   "metadata": {},
   "outputs": [
    {
     "name": "stdout",
     "output_type": "stream",
     "text": [
      "Requirement already satisfied: CanvasScraper in c:\\users\\gabri\\miniconda3\\envs\\my_env\\lib\\site-packages (0.5.6.dev0)\n",
      "Requirement already satisfied: pyderman in c:\\users\\gabri\\miniconda3\\envs\\my_env\\lib\\site-packages (from CanvasScraper) (3.3.2)\n",
      "Requirement already satisfied: selenium in c:\\users\\gabri\\miniconda3\\envs\\my_env\\lib\\site-packages (from CanvasScraper) (4.24.0)\n",
      "Requirement already satisfied: youtube-dl in c:\\users\\gabri\\miniconda3\\envs\\my_env\\lib\\site-packages (from CanvasScraper) (2021.12.17)\n",
      "Requirement already satisfied: urllib3<3,>=1.26 in c:\\users\\gabri\\miniconda3\\envs\\my_env\\lib\\site-packages (from urllib3[socks]<3,>=1.26->selenium->CanvasScraper) (2.3.0)\n",
      "Requirement already satisfied: trio~=0.17 in c:\\users\\gabri\\miniconda3\\envs\\my_env\\lib\\site-packages (from selenium->CanvasScraper) (0.26.2)\n",
      "Requirement already satisfied: trio-websocket~=0.9 in c:\\users\\gabri\\miniconda3\\envs\\my_env\\lib\\site-packages (from selenium->CanvasScraper) (0.11.1)\n",
      "Requirement already satisfied: certifi>=2021.10.8 in c:\\users\\gabri\\miniconda3\\envs\\my_env\\lib\\site-packages (from selenium->CanvasScraper) (2024.12.14)\n",
      "Requirement already satisfied: typing-extensions~=4.9 in c:\\users\\gabri\\miniconda3\\envs\\my_env\\lib\\site-packages (from selenium->CanvasScraper) (4.12.2)\n",
      "Requirement already satisfied: websocket-client~=1.8 in c:\\users\\gabri\\miniconda3\\envs\\my_env\\lib\\site-packages (from selenium->CanvasScraper) (1.8.0)\n",
      "Requirement already satisfied: attrs>=23.2.0 in c:\\users\\gabri\\miniconda3\\envs\\my_env\\lib\\site-packages (from trio~=0.17->selenium->CanvasScraper) (24.3.0)\n",
      "Requirement already satisfied: sortedcontainers in c:\\users\\gabri\\miniconda3\\envs\\my_env\\lib\\site-packages (from trio~=0.17->selenium->CanvasScraper) (2.4.0)\n",
      "Requirement already satisfied: idna in c:\\users\\gabri\\miniconda3\\envs\\my_env\\lib\\site-packages (from trio~=0.17->selenium->CanvasScraper) (3.7)\n",
      "Requirement already satisfied: outcome in c:\\users\\gabri\\miniconda3\\envs\\my_env\\lib\\site-packages (from trio~=0.17->selenium->CanvasScraper) (1.1.0)\n",
      "Requirement already satisfied: sniffio>=1.3.0 in c:\\users\\gabri\\miniconda3\\envs\\my_env\\lib\\site-packages (from trio~=0.17->selenium->CanvasScraper) (1.3.0)\n",
      "Requirement already satisfied: cffi>=1.14 in c:\\users\\gabri\\miniconda3\\envs\\my_env\\lib\\site-packages (from trio~=0.17->selenium->CanvasScraper) (1.17.1)\n",
      "Requirement already satisfied: wsproto>=0.14 in c:\\users\\gabri\\miniconda3\\envs\\my_env\\lib\\site-packages (from trio-websocket~=0.9->selenium->CanvasScraper) (1.2.0)\n",
      "Requirement already satisfied: pysocks!=1.5.7,<2.0,>=1.5.6 in c:\\users\\gabri\\miniconda3\\envs\\my_env\\lib\\site-packages (from urllib3[socks]<3,>=1.26->selenium->CanvasScraper) (1.7.1)\n",
      "Requirement already satisfied: pycparser in c:\\users\\gabri\\miniconda3\\envs\\my_env\\lib\\site-packages (from cffi>=1.14->trio~=0.17->selenium->CanvasScraper) (2.21)\n",
      "Requirement already satisfied: h11<1,>=0.9.0 in c:\\users\\gabri\\miniconda3\\envs\\my_env\\lib\\site-packages (from wsproto>=0.14->trio-websocket~=0.9->selenium->CanvasScraper) (0.14.0)\n",
      "Note: you may need to restart the kernel to use updated packages.\n",
      "Requirement already satisfied: canvasapi in c:\\users\\gabri\\miniconda3\\envs\\my_env\\lib\\site-packages (3.3.0)\n",
      "Requirement already satisfied: arrow in c:\\users\\gabri\\miniconda3\\envs\\my_env\\lib\\site-packages (from canvasapi) (1.3.0)\n",
      "Requirement already satisfied: pytz in c:\\users\\gabri\\appdata\\roaming\\python\\python312\\site-packages (from canvasapi) (2025.1)\n",
      "Requirement already satisfied: requests in c:\\users\\gabri\\miniconda3\\envs\\my_env\\lib\\site-packages (from canvasapi) (2.32.3)\n",
      "Requirement already satisfied: python-dateutil>=2.7.0 in c:\\users\\gabri\\appdata\\roaming\\python\\python312\\site-packages (from arrow->canvasapi) (2.9.0.post0)\n",
      "Requirement already satisfied: types-python-dateutil>=2.8.10 in c:\\users\\gabri\\miniconda3\\envs\\my_env\\lib\\site-packages (from arrow->canvasapi) (2.9.0.20241206)\n",
      "Requirement already satisfied: charset-normalizer<4,>=2 in c:\\users\\gabri\\miniconda3\\envs\\my_env\\lib\\site-packages (from requests->canvasapi) (3.3.2)\n",
      "Requirement already satisfied: idna<4,>=2.5 in c:\\users\\gabri\\miniconda3\\envs\\my_env\\lib\\site-packages (from requests->canvasapi) (3.7)\n",
      "Requirement already satisfied: urllib3<3,>=1.21.1 in c:\\users\\gabri\\miniconda3\\envs\\my_env\\lib\\site-packages (from requests->canvasapi) (2.3.0)\n",
      "Requirement already satisfied: certifi>=2017.4.17 in c:\\users\\gabri\\miniconda3\\envs\\my_env\\lib\\site-packages (from requests->canvasapi) (2024.12.14)\n",
      "Requirement already satisfied: six>=1.5 in c:\\users\\gabri\\appdata\\roaming\\python\\python312\\site-packages (from python-dateutil>=2.7.0->arrow->canvasapi) (1.17.0)\n",
      "Note: you may need to restart the kernel to use updated packages.\n",
      "Requirement already satisfied: pathvalidate in c:\\users\\gabri\\miniconda3\\envs\\my_env\\lib\\site-packages (3.2.3)\n",
      "Note: you may need to restart the kernel to use updated packages.\n"
     ]
    }
   ],
   "source": [
    "%pip install CanvasScraper\n",
    "%pip install canvasapi\n",
    "%pip install pathvalidate"
   ]
  },
  {
   "cell_type": "code",
   "execution_count": null,
   "metadata": {},
   "outputs": [
    {
     "name": "stderr",
     "output_type": "stream",
     "text": [
      "usage: ipykernel_launcher.py [-h] url token output [courses]\n",
      "ipykernel_launcher.py: error: the following arguments are required: url, token, output\n"
     ]
    },
    {
     "ename": "SystemExit",
     "evalue": "2",
     "output_type": "error",
     "traceback": [
      "An exception has occurred, use %tb to see the full traceback.\n",
      "\u001b[1;31mSystemExit\u001b[0m\u001b[1;31m:\u001b[0m 2\n"
     ]
    }
   ],
   "source": [
    "#!bin/python3\n",
    "import argparse\n",
    "import os\n",
    "import re\n",
    "\n",
    "from pathvalidate import sanitize_filename\n",
    "from canvasapi import Canvas\n",
    "from canvasapi.course import Course\n",
    "from canvasapi.exceptions import Unauthorized, ResourceDoesNotExist, Forbidden\n",
    "from canvasapi.file import File\n",
    "from canvasapi.module import Module, ModuleItem\n",
    "\n",
    "\n",
    "def extract_files(text):\n",
    "    text_search = re.findall(\"/files/(\\\\d+)\", text, re.IGNORECASE)\n",
    "    groups = set(text_search)\n",
    "    return groups\n",
    "\n",
    "def get_course_files(course):\n",
    "    modules = course.get_modules()\n",
    "\n",
    "    files_downloaded = set() # Track downloaded files for this course to avoid duplicates\n",
    "\n",
    "    for module in modules:\n",
    "        module: Module = module\n",
    "        module_items = module.get_module_items()\n",
    "        for item in module_items:\n",
    "            item: ModuleItem = item\n",
    "            \n",
    "            try:\n",
    "                path = f\"{output}/\" \\\n",
    "                    f\"{sanitize_filename(course.name)}/\" \\\n",
    "                    f\"{sanitize_filename(module.name)}/\"\n",
    "            except Exception as e:\n",
    "                print(e)\n",
    "                continue\n",
    "            if not os.path.exists(path):\n",
    "                os.makedirs(path)\n",
    "\n",
    "            item_type = item.type\n",
    "            print(f\"{course.name} - \"\n",
    "                  f\"{module.name} - \"\n",
    "                  f\"{item.title} ({item_type})\")\n",
    "\n",
    "            if item_type == \"File\":\n",
    "                file = canvas.get_file(item.content_id)\n",
    "                files_downloaded.add(item.content_id)\n",
    "                file.download(path + sanitize_filename(file.filename))\n",
    "            elif item_type == \"Page\":\n",
    "                page = course.get_page(item.page_url)\n",
    "                with open(path + sanitize_filename(item.title) + \".html\", \"w\", encoding=\"utf-8\") as f:\n",
    "                    f.write(page.body or \"\")\n",
    "                files = extract_files(page.body or \"\")\n",
    "                for file_id in files:\n",
    "                    if file_id in files_downloaded:\n",
    "                        continue\n",
    "                    try:\n",
    "                        file = course.get_file(file_id)\n",
    "                        files_downloaded.add(file_id)\n",
    "                        file.download(path + sanitize_filename(file.filename))\n",
    "                    except ResourceDoesNotExist:\n",
    "                        pass\n",
    "            elif item_type == \"ExternalUrl\":\n",
    "                url = item.external_url\n",
    "                with open(path + sanitize_filename(item.title) + \".url\", \"w\") as f:\n",
    "                    f.write(\"[InternetShortcut]\\n\")\n",
    "                    f.write(\"URL=\" + url)\n",
    "            elif item_type == \"Assignment\":\n",
    "                assignment = course.get_assignment(item.content_id)\n",
    "                with open(path + sanitize_filename(item.title) + \".html\", \"w\", encoding=\"utf-8\") as f:\n",
    "                    f.write(assignment.description or \"\")\n",
    "                files = extract_files(assignment.description or \"\")\n",
    "                for file_id in files:\n",
    "                    if file_id in files_downloaded:\n",
    "                        continue\n",
    "                    try:\n",
    "                        file = course.get_file(file_id)\n",
    "                        files_downloaded.add(file_id)\n",
    "                        file.download(path + sanitize_filename(file.filename))\n",
    "                    except ResourceDoesNotExist:\n",
    "                        pass\n",
    "                    except Unauthorized:\n",
    "                        pass\n",
    "                    except Forbidden:\n",
    "                        pass\n",
    "\n",
    "    try:\n",
    "        files = course.get_files()\n",
    "        for file in files:\n",
    "            file: File = file\n",
    "            if not file.id in files_downloaded:\n",
    "                print(f\"{course.name} - {file.filename}\")\n",
    "                path = f\"{output}/{sanitize_filename(course.name)}/\" \\\n",
    "                    f\"{sanitize_filename(file.filename)}\"\n",
    "                file.download(path)\n",
    "    except Unauthorized:\n",
    "        pass\n",
    "    except Forbidden:\n",
    "        pass\n",
    "\n",
    "\n",
    "if __name__ == \"__main__\":\n",
    "    parser = argparse.ArgumentParser(description=\"Download all assignments from Canvas\")\n",
    "    parser.add_argument(\"url\", help=\"https://byu.instructure.com\")\n",
    "    parser.add_argument(\"token\", help=\"7407~VB3XeGUnteMkUXPkmC7rETc2K3838uW7x7GVv8Mywx2nKhWDA4XTCVz7VmyWGmAF\")\n",
    "    parser.add_argument(\"output\", help=\"Path to the output folder, e.g. output/\")\n",
    "    parser.add_argument(\"courses\", help=\"Comma-separated course IDs or 'all'\", nargs=\"?\", const=\"all\")\n",
    "    args = parser.parse_args()\n",
    "\n",
    "    # Handle args\n",
    "    output = args.output.rstrip(\"/\") + \"/\"\n",
    "\n",
    "    if args.courses is None:\n",
    "        args.courses = \"all\"\n",
    "        print(\"No courses specified. Scraping all courses.\")\n",
    "\n",
    "    canvas = Canvas(args.url, args.token)\n",
    "\n",
    "    courses = [] # courses to scrape\n",
    "\n",
    "    # Select courses to scrape, default to all\n",
    "    if args.courses != \"all\":\n",
    "        courses = []\n",
    "        ids = args.courses.split(\",\")\n",
    "        for id in ids:\n",
    "            courses.append(canvas.get_course( int(id) ))\n",
    "    else:\n",
    "        courses = canvas.get_courses()\n",
    "\n",
    "    # Perform scrape\n",
    "    for course in courses:\n",
    "        course: Course = course\n",
    "        get_course_files(course)"
   ]
  },
  {
   "cell_type": "code",
   "execution_count": 36,
   "metadata": {},
   "outputs": [
    {
     "name": "stdout",
     "output_type": "stream",
     "text": [
      "404 {'errors': [{'message': 'The specified resource does not exist.'}]}\n"
     ]
    }
   ],
   "source": [
    "import requests\n",
    "\n",
    "with open('canvasapi.txt', 'r') as f:\n",
    "    TOKEN = f.read()\n",
    "\n",
    "# API_URL = \"https://byu.instructure.com/api/v1/courses\"\n",
    "\n",
    "# headers = {\"Authorization\": f\"Bearer {TOKEN}\"}\n",
    "# response = requests.get(API_URL, headers=headers)\n",
    "\n",
    "# print(response.json()) \n",
    "\n",
    "\n",
    "#CS111 27227\n",
    "#math 29215\n",
    "COURSE_ID = 27227\n",
    "\n",
    "API_URL = \"https://byu.instructure.com/api/v1/courses/{COURSE_ID}/assignment_groups\"\n",
    "\n",
    "# BASE_URL = \"https://byu.instructure.com\"\n",
    "\n",
    "# # Verify base API access\n",
    "# response = requests.get(f\"{BASE_URL}/api/v1/courses\", headers={\"Authorization\": f\"Bearer {TOKEN}\"})\n",
    "# print(\"Courses Response:\", response.status_code, response.json())\n",
    "\n",
    "# # Check if course exists\n",
    "# response = requests.get(f\"{BASE_URL}/api/v1/courses/{COURSE_ID}\", headers={\"Authorization\": f\"Bearer {TOKEN}\"})\n",
    "# print(\"Course Details Response:\", response.status_code, response.json())\n",
    "\n",
    "# # Check assignments\n",
    "# API_URL = f\"{BASE_URL}/api/v1/courses/{COURSE_ID}/assignments\"\n",
    "# response = requests.get(API_URL, headers={\"Authorization\": f\"Bearer {TOKEN}\"})\n",
    "# print(\"Assignments Response:\", response.status_code, response.json())\n",
    "\n",
    "headers = {\n",
    "    \"Authorization\": f\"Bearer {TOKEN}\"\n",
    "}\n",
    "\n",
    "# response = requests.get(API_URL, headers=headers)\n",
    "\n",
    "# print(response.json())\n",
    "\n",
    "\n",
    "# if response.status_code == 200:\n",
    "#     assignments = response.json()\n",
    "#     for assignment in assignments:\n",
    "#         name = assignment[\"name\"]\n",
    "#         due_date = assignment.get(\"due_at\", \"No due date\")\n",
    "#         print(f\"Assignment: {name} | Due Date: {due_date}\")\n",
    "# else:\n",
    "#     print(f\"Error: {response.status_code}, {response.text}\")\n",
    "\n",
    "# API_URL = f\"https://byu.instructure.com/api/v1/courses/{COURSE_ID}/students/submissions\"\n",
    "response = requests.get(API_URL, headers=headers)\n",
    "print(response.status_code, response.json())\n"
   ]
  },
  {
   "cell_type": "code",
   "execution_count": null,
   "metadata": {},
   "outputs": [],
   "source": [
    "url= \"https://learningsuite.byu.edu/.w60q/student/top/prioritizer\""
   ]
  },
  {
   "cell_type": "code",
   "execution_count": 14,
   "metadata": {},
   "outputs": [
    {
     "name": "stdout",
     "output_type": "stream",
     "text": [
      "[]\n"
     ]
    }
   ],
   "source": [
    "cookies = {'session_id': '004bd8fb-f8a1-4041-98c5-6fb131180971|EXISTING'}  # ✅ Dictionary (correct)\n",
    "\n",
    "# Get the calendar page\n",
    "response = requests.get(url, cookies=cookies)\n",
    "soup = BeautifulSoup(response.text, 'html.parser')\n",
    "\n",
    "# Extract calendar data (modify this based on actual HTML structure)\n",
    "events = []\n",
    "for event in soup.find_all(\"tr\", class_=\"h-10 bg-base\"):  # Adjust this class\n",
    "    date = event.find(\"time\", datetime_=\"2025-01-14T06:59:00.000Z\").text.strip()\n",
    "    title = event.find(\"span\", class_=\"overflow-hidden sm:-64 w-48 sm:w-auto pl-3\").text.strip()\n",
    "    course = event.find(\"span\", class_=\"sm:hidden text-2xs text-info\").text.strip()\n",
    "    events.append([date, title, course])\n",
    "print(events)\n",
    "# Convert to DataFrame & Save as CSV\n",
    "# df = pd.DataFrame(events, columns=[\"Date\", \"Assignment\", \"Course\"])\n",
    "# df.to_csv(\"learning_suite_calendar.csv\", index=False)\n",
    "\n",
    "# print(\"Calendar exported successfully!\")"
   ]
  },
  {
   "cell_type": "code",
   "execution_count": 15,
   "metadata": {},
   "outputs": [
    {
     "name": "stdout",
     "output_type": "stream",
     "text": [
      "Requirement already satisfied: selenium in c:\\users\\gabri\\miniconda3\\envs\\my_env\\lib\\site-packages (4.24.0)\n",
      "Requirement already satisfied: urllib3<3,>=1.26 in c:\\users\\gabri\\miniconda3\\envs\\my_env\\lib\\site-packages (from urllib3[socks]<3,>=1.26->selenium) (2.3.0)\n",
      "Requirement already satisfied: trio~=0.17 in c:\\users\\gabri\\miniconda3\\envs\\my_env\\lib\\site-packages (from selenium) (0.26.2)\n",
      "Requirement already satisfied: trio-websocket~=0.9 in c:\\users\\gabri\\miniconda3\\envs\\my_env\\lib\\site-packages (from selenium) (0.11.1)\n",
      "Requirement already satisfied: certifi>=2021.10.8 in c:\\users\\gabri\\miniconda3\\envs\\my_env\\lib\\site-packages (from selenium) (2024.12.14)\n",
      "Requirement already satisfied: typing-extensions~=4.9 in c:\\users\\gabri\\miniconda3\\envs\\my_env\\lib\\site-packages (from selenium) (4.12.2)\n",
      "Requirement already satisfied: websocket-client~=1.8 in c:\\users\\gabri\\miniconda3\\envs\\my_env\\lib\\site-packages (from selenium) (1.8.0)\n",
      "Requirement already satisfied: attrs>=23.2.0 in c:\\users\\gabri\\miniconda3\\envs\\my_env\\lib\\site-packages (from trio~=0.17->selenium) (24.3.0)\n",
      "Requirement already satisfied: sortedcontainers in c:\\users\\gabri\\miniconda3\\envs\\my_env\\lib\\site-packages (from trio~=0.17->selenium) (2.4.0)\n",
      "Requirement already satisfied: idna in c:\\users\\gabri\\miniconda3\\envs\\my_env\\lib\\site-packages (from trio~=0.17->selenium) (3.7)\n",
      "Requirement already satisfied: outcome in c:\\users\\gabri\\miniconda3\\envs\\my_env\\lib\\site-packages (from trio~=0.17->selenium) (1.1.0)\n",
      "Requirement already satisfied: sniffio>=1.3.0 in c:\\users\\gabri\\miniconda3\\envs\\my_env\\lib\\site-packages (from trio~=0.17->selenium) (1.3.0)\n",
      "Requirement already satisfied: cffi>=1.14 in c:\\users\\gabri\\miniconda3\\envs\\my_env\\lib\\site-packages (from trio~=0.17->selenium) (1.17.1)\n",
      "Requirement already satisfied: wsproto>=0.14 in c:\\users\\gabri\\miniconda3\\envs\\my_env\\lib\\site-packages (from trio-websocket~=0.9->selenium) (1.2.0)\n",
      "Requirement already satisfied: pysocks!=1.5.7,<2.0,>=1.5.6 in c:\\users\\gabri\\miniconda3\\envs\\my_env\\lib\\site-packages (from urllib3[socks]<3,>=1.26->selenium) (1.7.1)\n",
      "Requirement already satisfied: pycparser in c:\\users\\gabri\\miniconda3\\envs\\my_env\\lib\\site-packages (from cffi>=1.14->trio~=0.17->selenium) (2.21)\n",
      "Requirement already satisfied: h11<1,>=0.9.0 in c:\\users\\gabri\\miniconda3\\envs\\my_env\\lib\\site-packages (from wsproto>=0.14->trio-websocket~=0.9->selenium) (0.14.0)\n",
      "Note: you may need to restart the kernel to use updated packages.\n"
     ]
    }
   ],
   "source": [
    "%pip install selenium\n"
   ]
  }
 ],
 "metadata": {
  "kernelspec": {
   "display_name": "my_env",
   "language": "python",
   "name": "python3"
  },
  "language_info": {
   "codemirror_mode": {
    "name": "ipython",
    "version": 3
   },
   "file_extension": ".py",
   "mimetype": "text/x-python",
   "name": "python",
   "nbconvert_exporter": "python",
   "pygments_lexer": "ipython3",
   "version": "3.12.8"
  }
 },
 "nbformat": 4,
 "nbformat_minor": 2
}
